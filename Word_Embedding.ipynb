{
  "nbformat": 4,
  "nbformat_minor": 0,
  "metadata": {
    "colab": {
      "name": "Word Embedding.ipynb",
      "provenance": [],
      "machine_shape": "hm",
      "authorship_tag": "ABX9TyNdlQ+X5ytJkDwUIUpMTZhT",
      "include_colab_link": true
    },
    "kernelspec": {
      "name": "python3",
      "display_name": "Python 3"
    },
    "language_info": {
      "name": "python"
    },
    "accelerator": "TPU"
  },
  "cells": [
    {
      "cell_type": "markdown",
      "metadata": {
        "id": "view-in-github",
        "colab_type": "text"
      },
      "source": [
        "<a href=\"https://colab.research.google.com/github/sambit2407/NLP/blob/main/Word_Embedding.ipynb\" target=\"_parent\"><img src=\"https://colab.research.google.com/assets/colab-badge.svg\" alt=\"Open In Colab\"/></a>"
      ]
    },
    {
      "cell_type": "code",
      "execution_count": null,
      "metadata": {
        "id": "QRLvEm4cI2DN"
      },
      "outputs": [],
      "source": [
        ""
      ]
    },
    {
      "cell_type": "code",
      "source": [
        ""
      ],
      "metadata": {
        "id": "Ah0u_roUI-3x"
      },
      "execution_count": null,
      "outputs": []
    },
    {
      "cell_type": "code",
      "source": [
        ""
      ],
      "metadata": {
        "id": "fykoJ1R8KgFa"
      },
      "execution_count": null,
      "outputs": []
    },
    {
      "cell_type": "code",
      "source": [
        ""
      ],
      "metadata": {
        "id": "Vk7MEud_3AE9"
      },
      "execution_count": null,
      "outputs": []
    },
    {
      "cell_type": "markdown",
      "source": [
        "# 2.Train own embedding using Word2Vec library"
      ],
      "metadata": {
        "id": "6cflk4TQ3Akj"
      }
    },
    {
      "cell_type": "code",
      "source": [
        "sentences=['Hi let us learn NLP together','What is word embedding','NLP is part of data science','I love playing cricket','i do not like to play football']"
      ],
      "metadata": {
        "id": "TqNjcWUlLECO"
      },
      "execution_count": null,
      "outputs": []
    },
    {
      "cell_type": "code",
      "source": [
        "import nltk\n",
        "nltk.download('punkt')"
      ],
      "metadata": {
        "colab": {
          "base_uri": "https://localhost:8080/"
        },
        "id": "uY9hovAS2NjH",
        "outputId": "1f992afe-c60c-4262-94da-ee4c82dff555"
      },
      "execution_count": null,
      "outputs": [
        {
          "output_type": "stream",
          "name": "stdout",
          "text": [
            "[nltk_data] Downloading package punkt to /root/nltk_data...\n",
            "[nltk_data]   Package punkt is already up-to-date!\n"
          ]
        },
        {
          "output_type": "execute_result",
          "data": {
            "text/plain": [
              "True"
            ]
          },
          "metadata": {},
          "execution_count": 38
        }
      ]
    },
    {
      "cell_type": "code",
      "source": [
        "from nltk.tokenize import word_tokenize"
      ],
      "metadata": {
        "id": "2gXyJeeF1_HO"
      },
      "execution_count": null,
      "outputs": []
    },
    {
      "cell_type": "code",
      "source": [
        "sent_token=[]\n",
        "\n",
        "for sent in sentences:\n",
        "  sent_word= word_tokenize(sent)\n",
        "  sent_token.append(sent_word)\n",
        "    \n",
        "\n",
        "\n"
      ],
      "metadata": {
        "id": "c3ggt3Jgz4Ty"
      },
      "execution_count": null,
      "outputs": []
    },
    {
      "cell_type": "code",
      "source": [
        "sent_token"
      ],
      "metadata": {
        "colab": {
          "base_uri": "https://localhost:8080/"
        },
        "id": "gL3VSD562tyk",
        "outputId": "219b718d-927d-4016-ef1e-8e77fa6ac823"
      },
      "execution_count": null,
      "outputs": [
        {
          "output_type": "execute_result",
          "data": {
            "text/plain": [
              "[['Hi', 'let', 'us', 'learn', 'NLP', 'together'],\n",
              " ['What', 'is', 'word', 'embedding'],\n",
              " ['NLP', 'is', 'part', 'of', 'data', 'science'],\n",
              " ['I', 'love', 'playing', 'cricket'],\n",
              " ['i', 'do', 'not', 'like', 'to', 'play', 'football']]"
            ]
          },
          "metadata": {},
          "execution_count": 189
        }
      ]
    },
    {
      "cell_type": "code",
      "source": [
        "#training word2vec model\n",
        "from gensim.models import Word2Vec\n"
      ],
      "metadata": {
        "id": "3gOW3P9t2t17"
      },
      "execution_count": null,
      "outputs": []
    },
    {
      "cell_type": "code",
      "source": [
        "model2=Word2Vec(sent_token,size=100, window=3, min_count=1, workers=4)"
      ],
      "metadata": {
        "id": "pzM3i7vd2t6Z"
      },
      "execution_count": null,
      "outputs": []
    },
    {
      "cell_type": "code",
      "source": [
        "model2.wv.vocab"
      ],
      "metadata": {
        "colab": {
          "base_uri": "https://localhost:8080/"
        },
        "id": "KhhH9KC2WDgx",
        "outputId": "df02bff7-7dac-4dbd-a0cd-dcc7922202ac"
      },
      "execution_count": null,
      "outputs": [
        {
          "output_type": "execute_result",
          "data": {
            "text/plain": [
              "{'Hi': <gensim.models.keyedvectors.Vocab at 0x7fadf4798b90>,\n",
              " 'I': <gensim.models.keyedvectors.Vocab at 0x7fadf4798cd0>,\n",
              " 'NLP': <gensim.models.keyedvectors.Vocab at 0x7fadf47985d0>,\n",
              " 'What': <gensim.models.keyedvectors.Vocab at 0x7fadf4798b10>,\n",
              " 'cricket': <gensim.models.keyedvectors.Vocab at 0x7fadf477d250>,\n",
              " 'data': <gensim.models.keyedvectors.Vocab at 0x7fadf4798d90>,\n",
              " 'do': <gensim.models.keyedvectors.Vocab at 0x7fadf477db90>,\n",
              " 'embedding': <gensim.models.keyedvectors.Vocab at 0x7fadf4798fd0>,\n",
              " 'football': <gensim.models.keyedvectors.Vocab at 0x7fadf477d850>,\n",
              " 'i': <gensim.models.keyedvectors.Vocab at 0x7fadf477ddd0>,\n",
              " 'is': <gensim.models.keyedvectors.Vocab at 0x7fadf4798690>,\n",
              " 'learn': <gensim.models.keyedvectors.Vocab at 0x7fadf4798890>,\n",
              " 'let': <gensim.models.keyedvectors.Vocab at 0x7fadf4798590>,\n",
              " 'like': <gensim.models.keyedvectors.Vocab at 0x7fadf477d510>,\n",
              " 'love': <gensim.models.keyedvectors.Vocab at 0x7fadf4798850>,\n",
              " 'not': <gensim.models.keyedvectors.Vocab at 0x7fadf477d090>,\n",
              " 'of': <gensim.models.keyedvectors.Vocab at 0x7fadf4798550>,\n",
              " 'part': <gensim.models.keyedvectors.Vocab at 0x7fadf4798090>,\n",
              " 'play': <gensim.models.keyedvectors.Vocab at 0x7fadf477dd10>,\n",
              " 'playing': <gensim.models.keyedvectors.Vocab at 0x7fadf47989d0>,\n",
              " 'science': <gensim.models.keyedvectors.Vocab at 0x7fadf4798b50>,\n",
              " 'to': <gensim.models.keyedvectors.Vocab at 0x7fadf477de50>,\n",
              " 'together': <gensim.models.keyedvectors.Vocab at 0x7fadf4798390>,\n",
              " 'us': <gensim.models.keyedvectors.Vocab at 0x7fadf4798a50>,\n",
              " 'word': <gensim.models.keyedvectors.Vocab at 0x7fadf47983d0>}"
            ]
          },
          "metadata": {},
          "execution_count": 192
        }
      ]
    },
    {
      "cell_type": "code",
      "source": [
        "type(model2.wv.vocab)"
      ],
      "metadata": {
        "id": "GSpsC3Lm2t9f",
        "colab": {
          "base_uri": "https://localhost:8080/"
        },
        "outputId": "d9eb8fde-b4d3-42a3-b57a-49f729499142"
      },
      "execution_count": null,
      "outputs": [
        {
          "output_type": "execute_result",
          "data": {
            "text/plain": [
              "dict"
            ]
          },
          "metadata": {},
          "execution_count": 44
        }
      ]
    },
    {
      "cell_type": "code",
      "source": [
        "list(model2.wv.vocab)"
      ],
      "metadata": {
        "id": "xkaKBYiw2uA2",
        "colab": {
          "base_uri": "https://localhost:8080/"
        },
        "outputId": "1748d58c-7b17-4792-b5b5-77af4f8ec345"
      },
      "execution_count": null,
      "outputs": [
        {
          "output_type": "execute_result",
          "data": {
            "text/plain": [
              "['Hi',\n",
              " 'let',\n",
              " 'us',\n",
              " 'learn',\n",
              " 'NLP',\n",
              " 'together',\n",
              " 'What',\n",
              " 'is',\n",
              " 'word',\n",
              " 'embedding',\n",
              " 'part',\n",
              " 'of',\n",
              " 'data',\n",
              " 'science',\n",
              " 'I',\n",
              " 'love',\n",
              " 'playing',\n",
              " 'cricket',\n",
              " 'i',\n",
              " 'do',\n",
              " 'not',\n",
              " 'like',\n",
              " 'to',\n",
              " 'play',\n",
              " 'football']"
            ]
          },
          "metadata": {},
          "execution_count": 193
        }
      ]
    },
    {
      "cell_type": "code",
      "source": [
        "model2.wv['data']"
      ],
      "metadata": {
        "colab": {
          "base_uri": "https://localhost:8080/"
        },
        "id": "RdbsVZoUWBLj",
        "outputId": "1e7557db-2b6f-4299-8c2e-4f7ed6258026"
      },
      "execution_count": null,
      "outputs": [
        {
          "output_type": "execute_result",
          "data": {
            "text/plain": [
              "array([-4.32538148e-03, -2.14903778e-03,  4.51367319e-04, -2.59711151e-03,\n",
              "        6.30027091e-04,  7.94260937e-04,  2.83615175e-03, -2.15511653e-03,\n",
              "       -4.36740927e-03, -3.54983960e-03, -1.53123878e-03,  3.87490890e-03,\n",
              "       -1.44823658e-04,  7.14701950e-04,  2.56880210e-03, -2.67815846e-03,\n",
              "       -2.98538595e-03, -9.30016453e-04, -2.05675839e-03, -2.16101273e-03,\n",
              "       -2.49570130e-05,  1.15435039e-04, -1.79214025e-04, -5.69734199e-04,\n",
              "       -4.96254722e-03,  4.97373426e-03,  2.47723982e-03, -4.81544295e-03,\n",
              "       -1.99572160e-03, -3.34981526e-03, -2.24417471e-03,  4.08531306e-03,\n",
              "       -4.38039145e-03,  3.70976562e-03,  7.23179372e-04, -1.63793610e-03,\n",
              "        2.82532512e-03,  1.02656395e-05, -7.45358295e-04,  2.23295647e-03,\n",
              "       -3.50306183e-03,  1.78935169e-03,  4.05579573e-03, -3.52750206e-03,\n",
              "       -6.47986832e-04, -1.52527925e-03,  4.64066071e-03, -4.41653281e-03,\n",
              "        1.01653545e-03,  3.72587517e-03, -2.18889769e-03, -3.54560651e-03,\n",
              "        5.54450962e-04, -2.38615647e-03,  1.21116999e-03,  1.50128803e-03,\n",
              "        3.73524078e-03, -2.79153278e-03,  3.75205628e-03, -1.52061367e-03,\n",
              "        7.48883234e-04, -2.80379434e-03,  9.32858529e-05, -3.73073970e-03,\n",
              "        1.02109101e-03,  3.42178601e-03,  3.48442863e-03,  4.57197987e-03,\n",
              "       -1.67836691e-03, -1.65379501e-03, -8.14007479e-04, -2.43061758e-03,\n",
              "       -2.70021684e-03,  3.90522392e-03,  2.13812175e-03, -8.12903279e-04,\n",
              "       -9.51515278e-04, -3.60383932e-03, -3.94985639e-03,  4.16460587e-03,\n",
              "        1.42868492e-03,  1.54151500e-03,  2.34942022e-03,  1.63924985e-03,\n",
              "        4.93937684e-03, -2.30913237e-03, -4.14933218e-03,  6.81476842e-04,\n",
              "        4.79018316e-03, -3.17732571e-03, -6.81802165e-04,  2.69175414e-03,\n",
              "        2.17446522e-03,  5.81870554e-04, -8.03148781e-04,  2.40951963e-03,\n",
              "       -2.89212703e-03, -4.23876476e-03, -3.45858186e-03, -4.03314177e-03],\n",
              "      dtype=float32)"
            ]
          },
          "metadata": {},
          "execution_count": 194
        }
      ]
    },
    {
      "cell_type": "code",
      "source": [
        "model2.wv.most_similar('cricket')"
      ],
      "metadata": {
        "colab": {
          "base_uri": "https://localhost:8080/"
        },
        "id": "xTLXG6bIWBPS",
        "outputId": "ae6be1c2-24e8-43ae-ba05-7231c66299ff"
      },
      "execution_count": null,
      "outputs": [
        {
          "output_type": "execute_result",
          "data": {
            "text/plain": [
              "[('is', 0.21683955192565918),\n",
              " ('data', 0.14938336610794067),\n",
              " ('football', 0.1486794501543045),\n",
              " ('together', 0.12523873150348663),\n",
              " ('What', 0.11113680154085159),\n",
              " ('do', 0.10081343352794647),\n",
              " ('part', 0.08613753318786621),\n",
              " ('not', 0.08156951516866684),\n",
              " ('i', 0.06304539740085602),\n",
              " ('playing', 0.03779919445514679)]"
            ]
          },
          "metadata": {},
          "execution_count": 195
        }
      ]
    },
    {
      "cell_type": "code",
      "source": [
        "#disadvantages\n",
        "model2.wv.most_similar('hockey')"
      ],
      "metadata": {
        "colab": {
          "base_uri": "https://localhost:8080/",
          "height": 328
        },
        "id": "NO-kYC89WBSw",
        "outputId": "8f8c2112-b0db-44d0-f0d6-165d20e3106a"
      },
      "execution_count": null,
      "outputs": [
        {
          "output_type": "error",
          "ename": "KeyError",
          "evalue": "ignored",
          "traceback": [
            "\u001b[0;31m---------------------------------------------------------------------------\u001b[0m",
            "\u001b[0;31mKeyError\u001b[0m                                  Traceback (most recent call last)",
            "\u001b[0;32m<ipython-input-196-834b2e00f192>\u001b[0m in \u001b[0;36m<module>\u001b[0;34m()\u001b[0m\n\u001b[1;32m      1\u001b[0m \u001b[0;31m#disadvantages\u001b[0m\u001b[0;34m\u001b[0m\u001b[0;34m\u001b[0m\u001b[0;34m\u001b[0m\u001b[0m\n\u001b[0;32m----> 2\u001b[0;31m \u001b[0mmodel2\u001b[0m\u001b[0;34m.\u001b[0m\u001b[0mwv\u001b[0m\u001b[0;34m.\u001b[0m\u001b[0mmost_similar\u001b[0m\u001b[0;34m(\u001b[0m\u001b[0;34m'hockey'\u001b[0m\u001b[0;34m)\u001b[0m\u001b[0;34m\u001b[0m\u001b[0;34m\u001b[0m\u001b[0m\n\u001b[0m",
            "\u001b[0;32m/usr/local/lib/python3.7/dist-packages/gensim/models/keyedvectors.py\u001b[0m in \u001b[0;36mmost_similar\u001b[0;34m(self, positive, negative, topn, restrict_vocab, indexer)\u001b[0m\n\u001b[1;32m    529\u001b[0m                 \u001b[0mmean\u001b[0m\u001b[0;34m.\u001b[0m\u001b[0mappend\u001b[0m\u001b[0;34m(\u001b[0m\u001b[0mweight\u001b[0m \u001b[0;34m*\u001b[0m \u001b[0mword\u001b[0m\u001b[0;34m)\u001b[0m\u001b[0;34m\u001b[0m\u001b[0;34m\u001b[0m\u001b[0m\n\u001b[1;32m    530\u001b[0m             \u001b[0;32melse\u001b[0m\u001b[0;34m:\u001b[0m\u001b[0;34m\u001b[0m\u001b[0;34m\u001b[0m\u001b[0m\n\u001b[0;32m--> 531\u001b[0;31m                 \u001b[0mmean\u001b[0m\u001b[0;34m.\u001b[0m\u001b[0mappend\u001b[0m\u001b[0;34m(\u001b[0m\u001b[0mweight\u001b[0m \u001b[0;34m*\u001b[0m \u001b[0mself\u001b[0m\u001b[0;34m.\u001b[0m\u001b[0mword_vec\u001b[0m\u001b[0;34m(\u001b[0m\u001b[0mword\u001b[0m\u001b[0;34m,\u001b[0m \u001b[0muse_norm\u001b[0m\u001b[0;34m=\u001b[0m\u001b[0;32mTrue\u001b[0m\u001b[0;34m)\u001b[0m\u001b[0;34m)\u001b[0m\u001b[0;34m\u001b[0m\u001b[0;34m\u001b[0m\u001b[0m\n\u001b[0m\u001b[1;32m    532\u001b[0m                 \u001b[0;32mif\u001b[0m \u001b[0mword\u001b[0m \u001b[0;32min\u001b[0m \u001b[0mself\u001b[0m\u001b[0;34m.\u001b[0m\u001b[0mvocab\u001b[0m\u001b[0;34m:\u001b[0m\u001b[0;34m\u001b[0m\u001b[0;34m\u001b[0m\u001b[0m\n\u001b[1;32m    533\u001b[0m                     \u001b[0mall_words\u001b[0m\u001b[0;34m.\u001b[0m\u001b[0madd\u001b[0m\u001b[0;34m(\u001b[0m\u001b[0mself\u001b[0m\u001b[0;34m.\u001b[0m\u001b[0mvocab\u001b[0m\u001b[0;34m[\u001b[0m\u001b[0mword\u001b[0m\u001b[0;34m]\u001b[0m\u001b[0;34m.\u001b[0m\u001b[0mindex\u001b[0m\u001b[0;34m)\u001b[0m\u001b[0;34m\u001b[0m\u001b[0;34m\u001b[0m\u001b[0m\n",
            "\u001b[0;32m/usr/local/lib/python3.7/dist-packages/gensim/models/keyedvectors.py\u001b[0m in \u001b[0;36mword_vec\u001b[0;34m(self, word, use_norm)\u001b[0m\n\u001b[1;32m    450\u001b[0m             \u001b[0;32mreturn\u001b[0m \u001b[0mresult\u001b[0m\u001b[0;34m\u001b[0m\u001b[0;34m\u001b[0m\u001b[0m\n\u001b[1;32m    451\u001b[0m         \u001b[0;32melse\u001b[0m\u001b[0;34m:\u001b[0m\u001b[0;34m\u001b[0m\u001b[0;34m\u001b[0m\u001b[0m\n\u001b[0;32m--> 452\u001b[0;31m             \u001b[0;32mraise\u001b[0m \u001b[0mKeyError\u001b[0m\u001b[0;34m(\u001b[0m\u001b[0;34m\"word '%s' not in vocabulary\"\u001b[0m \u001b[0;34m%\u001b[0m \u001b[0mword\u001b[0m\u001b[0;34m)\u001b[0m\u001b[0;34m\u001b[0m\u001b[0;34m\u001b[0m\u001b[0m\n\u001b[0m\u001b[1;32m    453\u001b[0m \u001b[0;34m\u001b[0m\u001b[0m\n\u001b[1;32m    454\u001b[0m     \u001b[0;32mdef\u001b[0m \u001b[0mget_vector\u001b[0m\u001b[0;34m(\u001b[0m\u001b[0mself\u001b[0m\u001b[0;34m,\u001b[0m \u001b[0mword\u001b[0m\u001b[0;34m)\u001b[0m\u001b[0;34m:\u001b[0m\u001b[0;34m\u001b[0m\u001b[0;34m\u001b[0m\u001b[0m\n",
            "\u001b[0;31mKeyError\u001b[0m: \"word 'hockey' not in vocabulary\""
          ]
        }
      ]
    },
    {
      "cell_type": "code",
      "source": [
        "pd.read_excel('spamdata.xlsx')"
      ],
      "metadata": {
        "colab": {
          "base_uri": "https://localhost:8080/",
          "height": 655
        },
        "id": "f6wYJtsOWBVk",
        "outputId": "30f44230-721e-42e1-cf3d-0aa6868038e2"
      },
      "execution_count": null,
      "outputs": [
        {
          "output_type": "execute_result",
          "data": {
            "text/plain": [
              "       ham  \\\n",
              "0      ham   \n",
              "1     spam   \n",
              "2      ham   \n",
              "3      ham   \n",
              "4     spam   \n",
              "...    ...   \n",
              "5566  spam   \n",
              "5567   ham   \n",
              "5568   ham   \n",
              "5569   ham   \n",
              "5570   ham   \n",
              "\n",
              "     Go until jurong point, crazy.. Available only in bugis n great world la e buffet... Cine there got amore wat...  \n",
              "0                         Ok lar... Joking wif u oni...                                                               \n",
              "1     Free entry in 2 a wkly comp to win FA Cup fina...                                                               \n",
              "2     U dun say so early hor... U c already then say...                                                               \n",
              "3     Nah I don't think he goes to usf, he lives aro...                                                               \n",
              "4     FreeMsg Hey there darling it's been 3 week's n...                                                               \n",
              "...                                                 ...                                                               \n",
              "5566  This is the 2nd time we have tried 2 contact u...                                                               \n",
              "5567               Will ü b going to esplanade fr home?                                                               \n",
              "5568  Pity, * was in mood for that. So...any other s...                                                               \n",
              "5569  The guy did some bitching but I acted like i'd...                                                               \n",
              "5570                         Rofl. Its true to its name                                                               \n",
              "\n",
              "[5571 rows x 2 columns]"
            ],
            "text/html": [
              "\n",
              "  <div id=\"df-ff73173c-b62b-4484-b5cb-660cf38a35c2\">\n",
              "    <div class=\"colab-df-container\">\n",
              "      <div>\n",
              "<style scoped>\n",
              "    .dataframe tbody tr th:only-of-type {\n",
              "        vertical-align: middle;\n",
              "    }\n",
              "\n",
              "    .dataframe tbody tr th {\n",
              "        vertical-align: top;\n",
              "    }\n",
              "\n",
              "    .dataframe thead th {\n",
              "        text-align: right;\n",
              "    }\n",
              "</style>\n",
              "<table border=\"1\" class=\"dataframe\">\n",
              "  <thead>\n",
              "    <tr style=\"text-align: right;\">\n",
              "      <th></th>\n",
              "      <th>ham</th>\n",
              "      <th>Go until jurong point, crazy.. Available only in bugis n great world la e buffet... Cine there got amore wat...</th>\n",
              "    </tr>\n",
              "  </thead>\n",
              "  <tbody>\n",
              "    <tr>\n",
              "      <th>0</th>\n",
              "      <td>ham</td>\n",
              "      <td>Ok lar... Joking wif u oni...</td>\n",
              "    </tr>\n",
              "    <tr>\n",
              "      <th>1</th>\n",
              "      <td>spam</td>\n",
              "      <td>Free entry in 2 a wkly comp to win FA Cup fina...</td>\n",
              "    </tr>\n",
              "    <tr>\n",
              "      <th>2</th>\n",
              "      <td>ham</td>\n",
              "      <td>U dun say so early hor... U c already then say...</td>\n",
              "    </tr>\n",
              "    <tr>\n",
              "      <th>3</th>\n",
              "      <td>ham</td>\n",
              "      <td>Nah I don't think he goes to usf, he lives aro...</td>\n",
              "    </tr>\n",
              "    <tr>\n",
              "      <th>4</th>\n",
              "      <td>spam</td>\n",
              "      <td>FreeMsg Hey there darling it's been 3 week's n...</td>\n",
              "    </tr>\n",
              "    <tr>\n",
              "      <th>...</th>\n",
              "      <td>...</td>\n",
              "      <td>...</td>\n",
              "    </tr>\n",
              "    <tr>\n",
              "      <th>5566</th>\n",
              "      <td>spam</td>\n",
              "      <td>This is the 2nd time we have tried 2 contact u...</td>\n",
              "    </tr>\n",
              "    <tr>\n",
              "      <th>5567</th>\n",
              "      <td>ham</td>\n",
              "      <td>Will ü b going to esplanade fr home?</td>\n",
              "    </tr>\n",
              "    <tr>\n",
              "      <th>5568</th>\n",
              "      <td>ham</td>\n",
              "      <td>Pity, * was in mood for that. So...any other s...</td>\n",
              "    </tr>\n",
              "    <tr>\n",
              "      <th>5569</th>\n",
              "      <td>ham</td>\n",
              "      <td>The guy did some bitching but I acted like i'd...</td>\n",
              "    </tr>\n",
              "    <tr>\n",
              "      <th>5570</th>\n",
              "      <td>ham</td>\n",
              "      <td>Rofl. Its true to its name</td>\n",
              "    </tr>\n",
              "  </tbody>\n",
              "</table>\n",
              "<p>5571 rows × 2 columns</p>\n",
              "</div>\n",
              "      <button class=\"colab-df-convert\" onclick=\"convertToInteractive('df-ff73173c-b62b-4484-b5cb-660cf38a35c2')\"\n",
              "              title=\"Convert this dataframe to an interactive table.\"\n",
              "              style=\"display:none;\">\n",
              "        \n",
              "  <svg xmlns=\"http://www.w3.org/2000/svg\" height=\"24px\"viewBox=\"0 0 24 24\"\n",
              "       width=\"24px\">\n",
              "    <path d=\"M0 0h24v24H0V0z\" fill=\"none\"/>\n",
              "    <path d=\"M18.56 5.44l.94 2.06.94-2.06 2.06-.94-2.06-.94-.94-2.06-.94 2.06-2.06.94zm-11 1L8.5 8.5l.94-2.06 2.06-.94-2.06-.94L8.5 2.5l-.94 2.06-2.06.94zm10 10l.94 2.06.94-2.06 2.06-.94-2.06-.94-.94-2.06-.94 2.06-2.06.94z\"/><path d=\"M17.41 7.96l-1.37-1.37c-.4-.4-.92-.59-1.43-.59-.52 0-1.04.2-1.43.59L10.3 9.45l-7.72 7.72c-.78.78-.78 2.05 0 2.83L4 21.41c.39.39.9.59 1.41.59.51 0 1.02-.2 1.41-.59l7.78-7.78 2.81-2.81c.8-.78.8-2.07 0-2.86zM5.41 20L4 18.59l7.72-7.72 1.47 1.35L5.41 20z\"/>\n",
              "  </svg>\n",
              "      </button>\n",
              "      \n",
              "  <style>\n",
              "    .colab-df-container {\n",
              "      display:flex;\n",
              "      flex-wrap:wrap;\n",
              "      gap: 12px;\n",
              "    }\n",
              "\n",
              "    .colab-df-convert {\n",
              "      background-color: #E8F0FE;\n",
              "      border: none;\n",
              "      border-radius: 50%;\n",
              "      cursor: pointer;\n",
              "      display: none;\n",
              "      fill: #1967D2;\n",
              "      height: 32px;\n",
              "      padding: 0 0 0 0;\n",
              "      width: 32px;\n",
              "    }\n",
              "\n",
              "    .colab-df-convert:hover {\n",
              "      background-color: #E2EBFA;\n",
              "      box-shadow: 0px 1px 2px rgba(60, 64, 67, 0.3), 0px 1px 3px 1px rgba(60, 64, 67, 0.15);\n",
              "      fill: #174EA6;\n",
              "    }\n",
              "\n",
              "    [theme=dark] .colab-df-convert {\n",
              "      background-color: #3B4455;\n",
              "      fill: #D2E3FC;\n",
              "    }\n",
              "\n",
              "    [theme=dark] .colab-df-convert:hover {\n",
              "      background-color: #434B5C;\n",
              "      box-shadow: 0px 1px 3px 1px rgba(0, 0, 0, 0.15);\n",
              "      filter: drop-shadow(0px 1px 2px rgba(0, 0, 0, 0.3));\n",
              "      fill: #FFFFFF;\n",
              "    }\n",
              "  </style>\n",
              "\n",
              "      <script>\n",
              "        const buttonEl =\n",
              "          document.querySelector('#df-ff73173c-b62b-4484-b5cb-660cf38a35c2 button.colab-df-convert');\n",
              "        buttonEl.style.display =\n",
              "          google.colab.kernel.accessAllowed ? 'block' : 'none';\n",
              "\n",
              "        async function convertToInteractive(key) {\n",
              "          const element = document.querySelector('#df-ff73173c-b62b-4484-b5cb-660cf38a35c2');\n",
              "          const dataTable =\n",
              "            await google.colab.kernel.invokeFunction('convertToInteractive',\n",
              "                                                     [key], {});\n",
              "          if (!dataTable) return;\n",
              "\n",
              "          const docLinkHtml = 'Like what you see? Visit the ' +\n",
              "            '<a target=\"_blank\" href=https://colab.research.google.com/notebooks/data_table.ipynb>data table notebook</a>'\n",
              "            + ' to learn more about interactive tables.';\n",
              "          element.innerHTML = '';\n",
              "          dataTable['output_type'] = 'display_data';\n",
              "          await google.colab.output.renderOutput(dataTable, element);\n",
              "          const docLink = document.createElement('div');\n",
              "          docLink.innerHTML = docLinkHtml;\n",
              "          element.appendChild(docLink);\n",
              "        }\n",
              "      </script>\n",
              "    </div>\n",
              "  </div>\n",
              "  "
            ]
          },
          "metadata": {},
          "execution_count": 95
        }
      ]
    },
    {
      "cell_type": "markdown",
      "source": [
        "# 3. Train own Embedding Keras Embedding Method."
      ],
      "metadata": {
        "id": "tdoyh7R_6tX5"
      }
    },
    {
      "cell_type": "code",
      "source": [
        "sentences=[\"FreeMsg Hey there darling it's been 3 week's now and no word back! I'd like some fun you up for it still? Tb ok! XxX std chgs to send, £1.50 to rcv\",\"WINNER!! As a valued network customer you have been selected to receivea £900 prize reward! To claim call 09061701461. Claim code KL341. Valid 12 hours only.\",\"SIX chances to win CASH! From 100 to 20,000 pounds txt> CSH11 and send to 87575. Cost 150p/day, 6days, 16+ TsandCs apply Reply HL 4 info\",\"U dun say so early hor... U c already then say..\",\"I'm gonna be home soon and i don't want to talk about this stuff anymore tonight, k? I've cried enough today.\",\"I HAVE A DATE ON SUNDAY WITH WILL!!\"]"
      ],
      "metadata": {
        "id": "BnzGuNNz6w6W"
      },
      "execution_count": null,
      "outputs": []
    },
    {
      "cell_type": "code",
      "source": [
        "import numpy as np\n",
        "sent_labels=np.array([1,1,1,0,0,0])"
      ],
      "metadata": {
        "id": "Q6vRkdGs66xi"
      },
      "execution_count": null,
      "outputs": []
    },
    {
      "cell_type": "code",
      "source": [
        "type(sentences)"
      ],
      "metadata": {
        "colab": {
          "base_uri": "https://localhost:8080/"
        },
        "id": "5PhLQJzm-EUQ",
        "outputId": "c4d9decb-6622-4057-9033-66908b3b7ad2"
      },
      "execution_count": null,
      "outputs": [
        {
          "output_type": "execute_result",
          "data": {
            "text/plain": [
              "list"
            ]
          },
          "metadata": {},
          "execution_count": 160
        }
      ]
    },
    {
      "cell_type": "code",
      "source": [
        "data=pd.DataFrame(data=zip(sentences,sent_labels),columns=['msg','labels'])"
      ],
      "metadata": {
        "id": "HOqItPuA6603"
      },
      "execution_count": null,
      "outputs": []
    },
    {
      "cell_type": "code",
      "source": [
        "data"
      ],
      "metadata": {
        "colab": {
          "base_uri": "https://localhost:8080/",
          "height": 237
        },
        "id": "BM5PVAup664N",
        "outputId": "65cb2eb0-9812-43cd-ec99-9d50837709e9"
      },
      "execution_count": null,
      "outputs": [
        {
          "output_type": "execute_result",
          "data": {
            "text/plain": [
              "                                                 msg  labels\n",
              "0  FreeMsg Hey there darling it's been 3 week's n...       1\n",
              "1  WINNER!! As a valued network customer you have...       1\n",
              "2  SIX chances to win CASH! From 100 to 20,000 po...       1\n",
              "3   U dun say so early hor... U c already then say..       0\n",
              "4  I'm gonna be home soon and i don't want to tal...       0\n",
              "5                I HAVE A DATE ON SUNDAY WITH WILL!!       0"
            ],
            "text/html": [
              "\n",
              "  <div id=\"df-16d95d21-aa66-41f3-8ebd-c64443258ad3\">\n",
              "    <div class=\"colab-df-container\">\n",
              "      <div>\n",
              "<style scoped>\n",
              "    .dataframe tbody tr th:only-of-type {\n",
              "        vertical-align: middle;\n",
              "    }\n",
              "\n",
              "    .dataframe tbody tr th {\n",
              "        vertical-align: top;\n",
              "    }\n",
              "\n",
              "    .dataframe thead th {\n",
              "        text-align: right;\n",
              "    }\n",
              "</style>\n",
              "<table border=\"1\" class=\"dataframe\">\n",
              "  <thead>\n",
              "    <tr style=\"text-align: right;\">\n",
              "      <th></th>\n",
              "      <th>msg</th>\n",
              "      <th>labels</th>\n",
              "    </tr>\n",
              "  </thead>\n",
              "  <tbody>\n",
              "    <tr>\n",
              "      <th>0</th>\n",
              "      <td>FreeMsg Hey there darling it's been 3 week's n...</td>\n",
              "      <td>1</td>\n",
              "    </tr>\n",
              "    <tr>\n",
              "      <th>1</th>\n",
              "      <td>WINNER!! As a valued network customer you have...</td>\n",
              "      <td>1</td>\n",
              "    </tr>\n",
              "    <tr>\n",
              "      <th>2</th>\n",
              "      <td>SIX chances to win CASH! From 100 to 20,000 po...</td>\n",
              "      <td>1</td>\n",
              "    </tr>\n",
              "    <tr>\n",
              "      <th>3</th>\n",
              "      <td>U dun say so early hor... U c already then say..</td>\n",
              "      <td>0</td>\n",
              "    </tr>\n",
              "    <tr>\n",
              "      <th>4</th>\n",
              "      <td>I'm gonna be home soon and i don't want to tal...</td>\n",
              "      <td>0</td>\n",
              "    </tr>\n",
              "    <tr>\n",
              "      <th>5</th>\n",
              "      <td>I HAVE A DATE ON SUNDAY WITH WILL!!</td>\n",
              "      <td>0</td>\n",
              "    </tr>\n",
              "  </tbody>\n",
              "</table>\n",
              "</div>\n",
              "      <button class=\"colab-df-convert\" onclick=\"convertToInteractive('df-16d95d21-aa66-41f3-8ebd-c64443258ad3')\"\n",
              "              title=\"Convert this dataframe to an interactive table.\"\n",
              "              style=\"display:none;\">\n",
              "        \n",
              "  <svg xmlns=\"http://www.w3.org/2000/svg\" height=\"24px\"viewBox=\"0 0 24 24\"\n",
              "       width=\"24px\">\n",
              "    <path d=\"M0 0h24v24H0V0z\" fill=\"none\"/>\n",
              "    <path d=\"M18.56 5.44l.94 2.06.94-2.06 2.06-.94-2.06-.94-.94-2.06-.94 2.06-2.06.94zm-11 1L8.5 8.5l.94-2.06 2.06-.94-2.06-.94L8.5 2.5l-.94 2.06-2.06.94zm10 10l.94 2.06.94-2.06 2.06-.94-2.06-.94-.94-2.06-.94 2.06-2.06.94z\"/><path d=\"M17.41 7.96l-1.37-1.37c-.4-.4-.92-.59-1.43-.59-.52 0-1.04.2-1.43.59L10.3 9.45l-7.72 7.72c-.78.78-.78 2.05 0 2.83L4 21.41c.39.39.9.59 1.41.59.51 0 1.02-.2 1.41-.59l7.78-7.78 2.81-2.81c.8-.78.8-2.07 0-2.86zM5.41 20L4 18.59l7.72-7.72 1.47 1.35L5.41 20z\"/>\n",
              "  </svg>\n",
              "      </button>\n",
              "      \n",
              "  <style>\n",
              "    .colab-df-container {\n",
              "      display:flex;\n",
              "      flex-wrap:wrap;\n",
              "      gap: 12px;\n",
              "    }\n",
              "\n",
              "    .colab-df-convert {\n",
              "      background-color: #E8F0FE;\n",
              "      border: none;\n",
              "      border-radius: 50%;\n",
              "      cursor: pointer;\n",
              "      display: none;\n",
              "      fill: #1967D2;\n",
              "      height: 32px;\n",
              "      padding: 0 0 0 0;\n",
              "      width: 32px;\n",
              "    }\n",
              "\n",
              "    .colab-df-convert:hover {\n",
              "      background-color: #E2EBFA;\n",
              "      box-shadow: 0px 1px 2px rgba(60, 64, 67, 0.3), 0px 1px 3px 1px rgba(60, 64, 67, 0.15);\n",
              "      fill: #174EA6;\n",
              "    }\n",
              "\n",
              "    [theme=dark] .colab-df-convert {\n",
              "      background-color: #3B4455;\n",
              "      fill: #D2E3FC;\n",
              "    }\n",
              "\n",
              "    [theme=dark] .colab-df-convert:hover {\n",
              "      background-color: #434B5C;\n",
              "      box-shadow: 0px 1px 3px 1px rgba(0, 0, 0, 0.15);\n",
              "      filter: drop-shadow(0px 1px 2px rgba(0, 0, 0, 0.3));\n",
              "      fill: #FFFFFF;\n",
              "    }\n",
              "  </style>\n",
              "\n",
              "      <script>\n",
              "        const buttonEl =\n",
              "          document.querySelector('#df-16d95d21-aa66-41f3-8ebd-c64443258ad3 button.colab-df-convert');\n",
              "        buttonEl.style.display =\n",
              "          google.colab.kernel.accessAllowed ? 'block' : 'none';\n",
              "\n",
              "        async function convertToInteractive(key) {\n",
              "          const element = document.querySelector('#df-16d95d21-aa66-41f3-8ebd-c64443258ad3');\n",
              "          const dataTable =\n",
              "            await google.colab.kernel.invokeFunction('convertToInteractive',\n",
              "                                                     [key], {});\n",
              "          if (!dataTable) return;\n",
              "\n",
              "          const docLinkHtml = 'Like what you see? Visit the ' +\n",
              "            '<a target=\"_blank\" href=https://colab.research.google.com/notebooks/data_table.ipynb>data table notebook</a>'\n",
              "            + ' to learn more about interactive tables.';\n",
              "          element.innerHTML = '';\n",
              "          dataTable['output_type'] = 'display_data';\n",
              "          await google.colab.output.renderOutput(dataTable, element);\n",
              "          const docLink = document.createElement('div');\n",
              "          docLink.innerHTML = docLinkHtml;\n",
              "          element.appendChild(docLink);\n",
              "        }\n",
              "      </script>\n",
              "    </div>\n",
              "  </div>\n",
              "  "
            ]
          },
          "metadata": {},
          "execution_count": 200
        }
      ]
    },
    {
      "cell_type": "code",
      "source": [
        "import re\n",
        "from nltk.stem.porter import PorterStemmer\n",
        "from nltk.corpus import stopwords\n",
        "ps=PorterStemmer()\n",
        "def clean(data):\n",
        "  corpus=[]\n",
        "  for i in range(0,len(data['msg'])):\n",
        "    print(i)\n",
        "    msg=re.sub('[^a-zA-Z]',' ',data['msg'][i])\n",
        "    msg=msg.split()\n",
        "    msg=[ps.stem(word) for word in msg if not word in stopwords.words('english')]\n",
        "    msg = ' '.join(msg)\n",
        "    corpus.append(msg)\n",
        "    \n",
        "  \n",
        "    \n",
        "  return corpus\n",
        "\n"
      ],
      "metadata": {
        "id": "h0Tzbu6T666n"
      },
      "execution_count": null,
      "outputs": []
    },
    {
      "cell_type": "code",
      "source": [
        "corpus=clean(data)"
      ],
      "metadata": {
        "colab": {
          "base_uri": "https://localhost:8080/"
        },
        "id": "ph2yIgna669n",
        "outputId": "cdf7a915-0193-41d7-f1c4-13881c94d82e"
      },
      "execution_count": null,
      "outputs": [
        {
          "output_type": "stream",
          "name": "stdout",
          "text": [
            "0\n",
            "1\n",
            "2\n",
            "3\n",
            "4\n",
            "5\n"
          ]
        }
      ]
    },
    {
      "cell_type": "code",
      "source": [
        "corpus"
      ],
      "metadata": {
        "colab": {
          "base_uri": "https://localhost:8080/"
        },
        "id": "QjkG4Uvc67A2",
        "outputId": "d7bacad8-1c99-4260-a275-1dab56b7dc38"
      },
      "execution_count": null,
      "outputs": [
        {
          "output_type": "execute_result",
          "data": {
            "text/plain": [
              "['freemsg hey darl week word back I like fun still Tb ok xxx std chg send rcv',\n",
              " 'winner As valu network custom select receivea prize reward To claim call claim code KL valid hour',\n",
              " 'six chanc win cash from pound txt csh send cost p day day tsandc appli repli HL info',\n",
              " 'U dun say earli hor U c alreadi say',\n",
              " 'I gonna home soon want talk stuff anymor tonight k I cri enough today',\n",
              " 'I have A date ON sunday with will']"
            ]
          },
          "metadata": {},
          "execution_count": 203
        }
      ]
    },
    {
      "cell_type": "code",
      "source": [
        "from tensorflow.keras.layers import Embedding\n",
        "from tensorflow.keras.preprocessing.sequence import pad_sequences\n",
        "from tensorflow.keras.models import Sequential\n",
        "from tensorflow.keras.preprocessing.text import one_hot\n",
        "\n",
        "from tensorflow.keras.layers import Dense\n",
        "from tensorflow.keras.layers import Flatten"
      ],
      "metadata": {
        "id": "HFSVRybp67ET"
      },
      "execution_count": null,
      "outputs": []
    },
    {
      "cell_type": "code",
      "source": [
        "#encoding\n",
        "voc_size=50\n",
        "onehot_repr= [one_hot(sent,voc_size)for sent in corpus] \n",
        "onehot_repr"
      ],
      "metadata": {
        "colab": {
          "base_uri": "https://localhost:8080/"
        },
        "id": "CLQkSasAAhJ5",
        "outputId": "c353ab3b-21cd-44cd-ce02-6c2e970221d4"
      },
      "execution_count": null,
      "outputs": [
        {
          "output_type": "execute_result",
          "data": {
            "text/plain": [
              "[[46, 21, 1, 32, 39, 25, 24, 10, 30, 25, 47, 35, 44, 1, 6, 49, 10],\n",
              " [4, 4, 4, 2, 25, 3, 30, 42, 16, 33, 1, 10, 1, 14, 11, 4, 6],\n",
              " [44, 46, 1, 6, 20, 6, 26, 16, 49, 4, 14, 47, 47, 26, 48, 34, 6, 18],\n",
              " [48, 43, 24, 11, 47, 48, 49, 38, 24],\n",
              " [24, 13, 14, 27, 49, 27, 18, 8, 43, 33, 24, 39, 4, 6],\n",
              " [24, 8, 18, 44, 33, 38, 9, 10]]"
            ]
          },
          "metadata": {},
          "execution_count": 205
        }
      ]
    },
    {
      "cell_type": "code",
      "source": [
        "sent_length=18\n",
        "embedded_docs=pad_sequences(onehot_repr,padding='pre',maxlen=sent_length)\n",
        "print(embedded_docs)"
      ],
      "metadata": {
        "colab": {
          "base_uri": "https://localhost:8080/"
        },
        "id": "YxxGW3QGAwzY",
        "outputId": "bacbdfdd-90b8-4a17-c423-23e29060e0e1"
      },
      "execution_count": null,
      "outputs": [
        {
          "output_type": "stream",
          "name": "stdout",
          "text": [
            "[[ 0 46 21  1 32 39 25 24 10 30 25 47 35 44  1  6 49 10]\n",
            " [ 0  4  4  4  2 25  3 30 42 16 33  1 10  1 14 11  4  6]\n",
            " [44 46  1  6 20  6 26 16 49  4 14 47 47 26 48 34  6 18]\n",
            " [ 0  0  0  0  0  0  0  0  0 48 43 24 11 47 48 49 38 24]\n",
            " [ 0  0  0  0 24 13 14 27 49 27 18  8 43 33 24 39  4  6]\n",
            " [ 0  0  0  0  0  0  0  0  0  0 24  8 18 44 33 38  9 10]]\n"
          ]
        }
      ]
    },
    {
      "cell_type": "code",
      "source": [
        "#defining model\n",
        "feature_size=100\n",
        "model3=Sequential()\n",
        "model3.add(Embedding(voc_size,feature_size,input_length=sent_length,name='embedding'))\n",
        "model3.add(Flatten())\n",
        "model3.add(Dense(1,activation='sigmoid'))\n"
      ],
      "metadata": {
        "id": "SVjsqkveA6dP"
      },
      "execution_count": null,
      "outputs": []
    },
    {
      "cell_type": "code",
      "source": [
        "print(model3.summary())"
      ],
      "metadata": {
        "colab": {
          "base_uri": "https://localhost:8080/"
        },
        "id": "N0_YXt0kDynE",
        "outputId": "537e5472-b018-44d2-f41a-65436ff8feb1"
      },
      "execution_count": null,
      "outputs": [
        {
          "output_type": "stream",
          "name": "stdout",
          "text": [
            "Model: \"sequential_7\"\n",
            "_________________________________________________________________\n",
            " Layer (type)                Output Shape              Param #   \n",
            "=================================================================\n",
            " embedding (Embedding)       (None, 18, 100)           5000      \n",
            "                                                                 \n",
            " flatten_3 (Flatten)         (None, 1800)              0         \n",
            "                                                                 \n",
            " dense_3 (Dense)             (None, 1)                 1801      \n",
            "                                                                 \n",
            "=================================================================\n",
            "Total params: 6,801\n",
            "Trainable params: 6,801\n",
            "Non-trainable params: 0\n",
            "_________________________________________________________________\n",
            "None\n"
          ]
        }
      ]
    },
    {
      "cell_type": "code",
      "source": [
        "model3.compile(optimizer='adam',loss='binary_crossentropy',metrics=['accuracy'])"
      ],
      "metadata": {
        "id": "y4LrGiEVDQYX"
      },
      "execution_count": null,
      "outputs": []
    },
    {
      "cell_type": "code",
      "source": [
        "## Finally Training\n",
        "model3.fit(embedded_docs,sent_labels,epochs=50)"
      ],
      "metadata": {
        "colab": {
          "base_uri": "https://localhost:8080/"
        },
        "id": "ICM1N4b1D8Fq",
        "outputId": "ad5170c2-f043-4efa-d393-b96d3acf9edc"
      },
      "execution_count": null,
      "outputs": [
        {
          "output_type": "stream",
          "name": "stdout",
          "text": [
            "Epoch 1/50\n",
            "1/1 [==============================] - 0s 493ms/step - loss: 0.6815 - accuracy: 0.6667\n",
            "Epoch 2/50\n",
            "1/1 [==============================] - 0s 4ms/step - loss: 0.6602 - accuracy: 1.0000\n",
            "Epoch 3/50\n",
            "1/1 [==============================] - 0s 5ms/step - loss: 0.6393 - accuracy: 1.0000\n",
            "Epoch 4/50\n",
            "1/1 [==============================] - 0s 4ms/step - loss: 0.6188 - accuracy: 1.0000\n",
            "Epoch 5/50\n",
            "1/1 [==============================] - 0s 5ms/step - loss: 0.5987 - accuracy: 1.0000\n",
            "Epoch 6/50\n",
            "1/1 [==============================] - 0s 5ms/step - loss: 0.5789 - accuracy: 1.0000\n",
            "Epoch 7/50\n",
            "1/1 [==============================] - 0s 4ms/step - loss: 0.5594 - accuracy: 1.0000\n",
            "Epoch 8/50\n",
            "1/1 [==============================] - 0s 5ms/step - loss: 0.5402 - accuracy: 1.0000\n",
            "Epoch 9/50\n",
            "1/1 [==============================] - 0s 4ms/step - loss: 0.5212 - accuracy: 1.0000\n",
            "Epoch 10/50\n",
            "1/1 [==============================] - 0s 4ms/step - loss: 0.5024 - accuracy: 1.0000\n",
            "Epoch 11/50\n",
            "1/1 [==============================] - 0s 5ms/step - loss: 0.4838 - accuracy: 1.0000\n",
            "Epoch 12/50\n",
            "1/1 [==============================] - 0s 4ms/step - loss: 0.4654 - accuracy: 1.0000\n",
            "Epoch 13/50\n",
            "1/1 [==============================] - 0s 4ms/step - loss: 0.4472 - accuracy: 1.0000\n",
            "Epoch 14/50\n",
            "1/1 [==============================] - 0s 4ms/step - loss: 0.4292 - accuracy: 1.0000\n",
            "Epoch 15/50\n",
            "1/1 [==============================] - 0s 5ms/step - loss: 0.4113 - accuracy: 1.0000\n",
            "Epoch 16/50\n",
            "1/1 [==============================] - 0s 4ms/step - loss: 0.3937 - accuracy: 1.0000\n",
            "Epoch 17/50\n",
            "1/1 [==============================] - 0s 5ms/step - loss: 0.3763 - accuracy: 1.0000\n",
            "Epoch 18/50\n",
            "1/1 [==============================] - 0s 4ms/step - loss: 0.3591 - accuracy: 1.0000\n",
            "Epoch 19/50\n",
            "1/1 [==============================] - 0s 5ms/step - loss: 0.3422 - accuracy: 1.0000\n",
            "Epoch 20/50\n",
            "1/1 [==============================] - 0s 5ms/step - loss: 0.3256 - accuracy: 1.0000\n",
            "Epoch 21/50\n",
            "1/1 [==============================] - 0s 4ms/step - loss: 0.3093 - accuracy: 1.0000\n",
            "Epoch 22/50\n",
            "1/1 [==============================] - 0s 5ms/step - loss: 0.2934 - accuracy: 1.0000\n",
            "Epoch 23/50\n",
            "1/1 [==============================] - 0s 5ms/step - loss: 0.2778 - accuracy: 1.0000\n",
            "Epoch 24/50\n",
            "1/1 [==============================] - 0s 4ms/step - loss: 0.2627 - accuracy: 1.0000\n",
            "Epoch 25/50\n",
            "1/1 [==============================] - 0s 4ms/step - loss: 0.2480 - accuracy: 1.0000\n",
            "Epoch 26/50\n",
            "1/1 [==============================] - 0s 4ms/step - loss: 0.2338 - accuracy: 1.0000\n",
            "Epoch 27/50\n",
            "1/1 [==============================] - 0s 4ms/step - loss: 0.2200 - accuracy: 1.0000\n",
            "Epoch 28/50\n",
            "1/1 [==============================] - 0s 5ms/step - loss: 0.2068 - accuracy: 1.0000\n",
            "Epoch 29/50\n",
            "1/1 [==============================] - 0s 4ms/step - loss: 0.1942 - accuracy: 1.0000\n",
            "Epoch 30/50\n",
            "1/1 [==============================] - 0s 4ms/step - loss: 0.1821 - accuracy: 1.0000\n",
            "Epoch 31/50\n",
            "1/1 [==============================] - 0s 5ms/step - loss: 0.1705 - accuracy: 1.0000\n",
            "Epoch 32/50\n",
            "1/1 [==============================] - 0s 4ms/step - loss: 0.1595 - accuracy: 1.0000\n",
            "Epoch 33/50\n",
            "1/1 [==============================] - 0s 4ms/step - loss: 0.1491 - accuracy: 1.0000\n",
            "Epoch 34/50\n",
            "1/1 [==============================] - 0s 4ms/step - loss: 0.1393 - accuracy: 1.0000\n",
            "Epoch 35/50\n",
            "1/1 [==============================] - 0s 5ms/step - loss: 0.1300 - accuracy: 1.0000\n",
            "Epoch 36/50\n",
            "1/1 [==============================] - 0s 5ms/step - loss: 0.1213 - accuracy: 1.0000\n",
            "Epoch 37/50\n",
            "1/1 [==============================] - 0s 5ms/step - loss: 0.1131 - accuracy: 1.0000\n",
            "Epoch 38/50\n",
            "1/1 [==============================] - 0s 4ms/step - loss: 0.1055 - accuracy: 1.0000\n",
            "Epoch 39/50\n",
            "1/1 [==============================] - 0s 4ms/step - loss: 0.0984 - accuracy: 1.0000\n",
            "Epoch 40/50\n",
            "1/1 [==============================] - 0s 5ms/step - loss: 0.0917 - accuracy: 1.0000\n",
            "Epoch 41/50\n",
            "1/1 [==============================] - 0s 4ms/step - loss: 0.0855 - accuracy: 1.0000\n",
            "Epoch 42/50\n",
            "1/1 [==============================] - 0s 4ms/step - loss: 0.0798 - accuracy: 1.0000\n",
            "Epoch 43/50\n",
            "1/1 [==============================] - 0s 4ms/step - loss: 0.0744 - accuracy: 1.0000\n",
            "Epoch 44/50\n",
            "1/1 [==============================] - 0s 5ms/step - loss: 0.0695 - accuracy: 1.0000\n",
            "Epoch 45/50\n",
            "1/1 [==============================] - 0s 4ms/step - loss: 0.0649 - accuracy: 1.0000\n",
            "Epoch 46/50\n",
            "1/1 [==============================] - 0s 5ms/step - loss: 0.0607 - accuracy: 1.0000\n",
            "Epoch 47/50\n",
            "1/1 [==============================] - 0s 4ms/step - loss: 0.0568 - accuracy: 1.0000\n",
            "Epoch 48/50\n",
            "1/1 [==============================] - 0s 5ms/step - loss: 0.0532 - accuracy: 1.0000\n",
            "Epoch 49/50\n",
            "1/1 [==============================] - 0s 5ms/step - loss: 0.0499 - accuracy: 1.0000\n",
            "Epoch 50/50\n",
            "1/1 [==============================] - 0s 5ms/step - loss: 0.0469 - accuracy: 1.0000\n"
          ]
        },
        {
          "output_type": "execute_result",
          "data": {
            "text/plain": [
              "<keras.callbacks.History at 0x7fadf4970850>"
            ]
          },
          "metadata": {},
          "execution_count": 211
        }
      ]
    },
    {
      "cell_type": "code",
      "source": [
        "weights=model3.get_layer('embedding').get_weights()[0]\n",
        "len(weights)"
      ],
      "metadata": {
        "colab": {
          "base_uri": "https://localhost:8080/"
        },
        "id": "-sgRZF3uEY58",
        "outputId": "61ac08f9-d068-41b0-fe91-74dc4992cf18"
      },
      "execution_count": null,
      "outputs": [
        {
          "output_type": "execute_result",
          "data": {
            "text/plain": [
              "50"
            ]
          },
          "metadata": {},
          "execution_count": 215
        }
      ]
    },
    {
      "cell_type": "code",
      "source": [
        "model3.get_layer('embedding').get_weights()[0][0]"
      ],
      "metadata": {
        "colab": {
          "base_uri": "https://localhost:8080/"
        },
        "id": "JzQB_xISJjpP",
        "outputId": "7af8dbe6-e45f-4ab9-d3e1-87bee09350b7"
      },
      "execution_count": null,
      "outputs": [
        {
          "output_type": "execute_result",
          "data": {
            "text/plain": [
              "array([-0.05088669,  0.07897494, -0.00584384,  0.06396876, -0.05561905,\n",
              "       -0.05579843, -0.0517165 ,  0.06799003,  0.06712596,  0.03831484,\n",
              "       -0.04921581,  0.08876541,  0.04588452, -0.05338224,  0.07648774,\n",
              "       -0.07441556, -0.02985643,  0.07981911, -0.07116101,  0.06564176,\n",
              "        0.0870227 ,  0.09634245,  0.04462949,  0.09157773,  0.08262053,\n",
              "        0.04492938, -0.05561057,  0.08816829,  0.00651117,  0.09665502,\n",
              "        0.04821563,  0.09619991,  0.03453307,  0.08510207,  0.01613446,\n",
              "        0.04265289,  0.02492401,  0.0060581 , -0.06689785, -0.06797598,\n",
              "       -0.05600508,  0.01739041, -0.05100049, -0.00560202,  0.05712852,\n",
              "       -0.09245466, -0.04129357,  0.04717566,  0.08897859,  0.07072297,\n",
              "       -0.03317908,  0.0635272 , -0.06285261, -0.07426315,  0.09212562,\n",
              "       -0.00700971, -0.07775054,  0.05974125,  0.08144593, -0.03236569,\n",
              "       -0.07704405,  0.02912599, -0.07945553,  0.0694673 ,  0.04725306,\n",
              "       -0.05269183, -0.0095155 , -0.07017071,  0.02209825, -0.04100154,\n",
              "        0.05760007, -0.0926096 ,  0.09440657,  0.04284786,  0.07278349,\n",
              "       -0.08757257, -0.07552496,  0.08287334,  0.08351499,  0.06922054,\n",
              "        0.07188115, -0.02031757, -0.04858064,  0.04625084, -0.06232551,\n",
              "       -0.08234019,  0.06281835,  0.09672367,  0.09068192,  0.03845672,\n",
              "        0.07220894,  0.00715629,  0.0826006 ,  0.05951229, -0.04370578,\n",
              "       -0.07513419,  0.07831142,  0.01376685, -0.0753369 ,  0.01163942],\n",
              "      dtype=float32)"
            ]
          },
          "metadata": {},
          "execution_count": 213
        }
      ]
    },
    {
      "cell_type": "code",
      "source": [
        "weights[4]#winner"
      ],
      "metadata": {
        "colab": {
          "base_uri": "https://localhost:8080/"
        },
        "id": "kWGvmN1h_LaT",
        "outputId": "94789211-4aa8-4ab6-dce8-ff1beb5a87cc"
      },
      "execution_count": null,
      "outputs": [
        {
          "output_type": "execute_result",
          "data": {
            "text/plain": [
              "array([-0.00141833, -0.05452403, -0.004335  , -0.06421278, -0.07231916,\n",
              "        0.02220725,  0.09259204, -0.00541454, -0.05562538, -0.00800391,\n",
              "        0.01952702, -0.05310063,  0.00974942,  0.04018967, -0.03069899,\n",
              "       -0.05986988, -0.00062018, -0.04519001,  0.02953283, -0.08563048,\n",
              "       -0.08803567, -0.00973329, -0.06534764, -0.06900775, -0.08597003,\n",
              "       -0.08855874,  0.08638977, -0.07231213,  0.094473  , -0.00727638,\n",
              "       -0.04959695, -0.04651417, -0.0927881 , -0.02965708,  0.0856545 ,\n",
              "       -0.01792906, -0.07822265, -0.04767412,  0.00531864, -0.06930999,\n",
              "        0.04293835, -0.0798641 ,  0.02996519,  0.07854383, -0.09193312,\n",
              "        0.0506038 ,  0.02708785, -0.08281946, -0.06968389, -0.0075558 ,\n",
              "        0.02349916, -0.04248148, -0.00758745,  0.05949486, -0.08328461,\n",
              "        0.00430191,  0.05799831,  0.05857727, -0.04338959,  0.04618945,\n",
              "        0.08344917, -0.0267438 ,  0.06164882, -0.04684909, -0.04625686,\n",
              "        0.00244602, -0.01101503,  0.03364303, -0.09706351,  0.05936965,\n",
              "       -0.00023519,  0.02743031, -0.07867904,  0.00123199,  0.05726725,\n",
              "        0.01498426,  0.01794858, -0.04692516, -0.05033259, -0.07287352,\n",
              "       -0.02598431,  0.07259963,  0.08850832, -0.03923524,  0.01018133,\n",
              "        0.05357484, -0.03299837, -0.0223317 , -0.00241619, -0.07979135,\n",
              "       -0.05574518,  0.01530588, -0.04963781, -0.099895  ,  0.01678867,\n",
              "        0.03460141, -0.04597577, -0.00488715,  0.08773324, -0.0189338 ],\n",
              "      dtype=float32)"
            ]
          },
          "metadata": {},
          "execution_count": 216
        }
      ]
    },
    {
      "cell_type": "code",
      "source": [
        "weights[1]#win"
      ],
      "metadata": {
        "colab": {
          "base_uri": "https://localhost:8080/"
        },
        "id": "Gnh0Plcc_Ldc",
        "outputId": "e0442e39-0ec0-4bc2-d8a2-6ac0d1a8a8e9"
      },
      "execution_count": null,
      "outputs": [
        {
          "output_type": "execute_result",
          "data": {
            "text/plain": [
              "array([-0.00698507, -0.02274259, -0.09211595,  0.07729302,  0.06247756,\n",
              "       -0.04246807,  0.07423294, -0.06655995, -0.02915058,  0.04032254,\n",
              "        0.09558517, -0.05416711,  0.00107342,  0.0174354 ,  0.00703362,\n",
              "        0.0565705 ,  0.04829713,  0.00533972,  0.00663676, -0.02112168,\n",
              "       -0.01623414, -0.00828128, -0.07192114, -0.0378823 ,  0.06146321,\n",
              "        0.05320144,  0.06826852, -0.01392491,  0.08315222, -0.02215963,\n",
              "        0.05704975,  0.00167748, -0.05890344,  0.07731482, -0.00353206,\n",
              "       -0.06105121, -0.04393622,  0.08478707, -0.078983  ,  0.02848827,\n",
              "       -0.01725299, -0.02914831,  0.07040447, -0.08854671,  0.03454999,\n",
              "        0.07159922,  0.09182974, -0.06467129,  0.02190165, -0.02042896,\n",
              "        0.07309007, -0.00191633, -0.00546666,  0.06267189, -0.04303234,\n",
              "       -0.00103132,  0.08669166,  0.03932037, -0.04176356,  0.02212811,\n",
              "        0.0820915 , -0.01938197, -0.02746456, -0.05739615,  0.01623478,\n",
              "        0.00195361, -0.08776957,  0.03306731,  0.00187353, -0.08056866,\n",
              "       -0.01114826,  0.03285594,  0.01666728, -0.10271555, -0.0247286 ,\n",
              "       -0.02769473,  0.06979852, -0.09537842,  0.05029182, -0.05529371,\n",
              "        0.07650816, -0.00330863,  0.04089431, -0.04603664,  0.04345063,\n",
              "       -0.0698312 , -0.06969661, -0.05782391,  0.00834944,  0.06891082,\n",
              "       -0.04021479, -0.00227018, -0.00243979,  0.04414304, -0.01945627,\n",
              "       -0.07840918,  0.02216519, -0.02758849,  0.04940024,  0.08686905],\n",
              "      dtype=float32)"
            ]
          },
          "metadata": {},
          "execution_count": 217
        }
      ]
    },
    {
      "cell_type": "code",
      "source": [
        ""
      ],
      "metadata": {
        "id": "uxreDFdS_Lgk"
      },
      "execution_count": null,
      "outputs": []
    },
    {
      "cell_type": "code",
      "source": [
        ""
      ],
      "metadata": {
        "id": "HkS6LdhV_Ljq"
      },
      "execution_count": null,
      "outputs": []
    },
    {
      "cell_type": "code",
      "source": [
        ""
      ],
      "metadata": {
        "id": "JN0KEC_-_Lmu"
      },
      "execution_count": null,
      "outputs": []
    },
    {
      "cell_type": "markdown",
      "source": [
        "# Prediction for New Message"
      ],
      "metadata": {
        "id": "r6a4Yy_HEniW"
      }
    },
    {
      "cell_type": "code",
      "source": [
        "sents=[\"URGENT! You have won a 1 week FREE membership in our £100,000 Prize Jackpot! Txt the word: CLAIM to No: 81010 T&C www.dbuk.net LCCLTD POBOX 4403LDNW1A7RW18\",\"WINNER!! As a valued network customer you have been selected to receivea £900 prize reward! To claim call 09061701461. Claim code KL341. Valid 12 hours only.\",\"\tNah I don't think he goes to usf, he lives around here though\"]"
      ],
      "metadata": {
        "id": "xVj45wB8Erv2"
      },
      "execution_count": null,
      "outputs": []
    },
    {
      "cell_type": "code",
      "source": [
        "pred_data=pd.DataFrame(data=sents,columns=['msg'])\n",
        "pred_data"
      ],
      "metadata": {
        "colab": {
          "base_uri": "https://localhost:8080/",
          "height": 172
        },
        "id": "AUCZBml8EscD",
        "outputId": "2c4c908d-bd34-4605-f8ae-0183a91e6f43"
      },
      "execution_count": null,
      "outputs": [
        {
          "output_type": "execute_result",
          "data": {
            "text/plain": [
              "                                                 msg\n",
              "0  URGENT! You have won a 1 week FREE membership ...\n",
              "1  WINNER!! As a valued network customer you have...\n",
              "2  \\tNah I don't think he goes to usf, he lives a..."
            ],
            "text/html": [
              "\n",
              "  <div id=\"df-ae40e593-9d2c-4941-a69d-b3c6466a5663\">\n",
              "    <div class=\"colab-df-container\">\n",
              "      <div>\n",
              "<style scoped>\n",
              "    .dataframe tbody tr th:only-of-type {\n",
              "        vertical-align: middle;\n",
              "    }\n",
              "\n",
              "    .dataframe tbody tr th {\n",
              "        vertical-align: top;\n",
              "    }\n",
              "\n",
              "    .dataframe thead th {\n",
              "        text-align: right;\n",
              "    }\n",
              "</style>\n",
              "<table border=\"1\" class=\"dataframe\">\n",
              "  <thead>\n",
              "    <tr style=\"text-align: right;\">\n",
              "      <th></th>\n",
              "      <th>msg</th>\n",
              "    </tr>\n",
              "  </thead>\n",
              "  <tbody>\n",
              "    <tr>\n",
              "      <th>0</th>\n",
              "      <td>URGENT! You have won a 1 week FREE membership ...</td>\n",
              "    </tr>\n",
              "    <tr>\n",
              "      <th>1</th>\n",
              "      <td>WINNER!! As a valued network customer you have...</td>\n",
              "    </tr>\n",
              "    <tr>\n",
              "      <th>2</th>\n",
              "      <td>\\tNah I don't think he goes to usf, he lives a...</td>\n",
              "    </tr>\n",
              "  </tbody>\n",
              "</table>\n",
              "</div>\n",
              "      <button class=\"colab-df-convert\" onclick=\"convertToInteractive('df-ae40e593-9d2c-4941-a69d-b3c6466a5663')\"\n",
              "              title=\"Convert this dataframe to an interactive table.\"\n",
              "              style=\"display:none;\">\n",
              "        \n",
              "  <svg xmlns=\"http://www.w3.org/2000/svg\" height=\"24px\"viewBox=\"0 0 24 24\"\n",
              "       width=\"24px\">\n",
              "    <path d=\"M0 0h24v24H0V0z\" fill=\"none\"/>\n",
              "    <path d=\"M18.56 5.44l.94 2.06.94-2.06 2.06-.94-2.06-.94-.94-2.06-.94 2.06-2.06.94zm-11 1L8.5 8.5l.94-2.06 2.06-.94-2.06-.94L8.5 2.5l-.94 2.06-2.06.94zm10 10l.94 2.06.94-2.06 2.06-.94-2.06-.94-.94-2.06-.94 2.06-2.06.94z\"/><path d=\"M17.41 7.96l-1.37-1.37c-.4-.4-.92-.59-1.43-.59-.52 0-1.04.2-1.43.59L10.3 9.45l-7.72 7.72c-.78.78-.78 2.05 0 2.83L4 21.41c.39.39.9.59 1.41.59.51 0 1.02-.2 1.41-.59l7.78-7.78 2.81-2.81c.8-.78.8-2.07 0-2.86zM5.41 20L4 18.59l7.72-7.72 1.47 1.35L5.41 20z\"/>\n",
              "  </svg>\n",
              "      </button>\n",
              "      \n",
              "  <style>\n",
              "    .colab-df-container {\n",
              "      display:flex;\n",
              "      flex-wrap:wrap;\n",
              "      gap: 12px;\n",
              "    }\n",
              "\n",
              "    .colab-df-convert {\n",
              "      background-color: #E8F0FE;\n",
              "      border: none;\n",
              "      border-radius: 50%;\n",
              "      cursor: pointer;\n",
              "      display: none;\n",
              "      fill: #1967D2;\n",
              "      height: 32px;\n",
              "      padding: 0 0 0 0;\n",
              "      width: 32px;\n",
              "    }\n",
              "\n",
              "    .colab-df-convert:hover {\n",
              "      background-color: #E2EBFA;\n",
              "      box-shadow: 0px 1px 2px rgba(60, 64, 67, 0.3), 0px 1px 3px 1px rgba(60, 64, 67, 0.15);\n",
              "      fill: #174EA6;\n",
              "    }\n",
              "\n",
              "    [theme=dark] .colab-df-convert {\n",
              "      background-color: #3B4455;\n",
              "      fill: #D2E3FC;\n",
              "    }\n",
              "\n",
              "    [theme=dark] .colab-df-convert:hover {\n",
              "      background-color: #434B5C;\n",
              "      box-shadow: 0px 1px 3px 1px rgba(0, 0, 0, 0.15);\n",
              "      filter: drop-shadow(0px 1px 2px rgba(0, 0, 0, 0.3));\n",
              "      fill: #FFFFFF;\n",
              "    }\n",
              "  </style>\n",
              "\n",
              "      <script>\n",
              "        const buttonEl =\n",
              "          document.querySelector('#df-ae40e593-9d2c-4941-a69d-b3c6466a5663 button.colab-df-convert');\n",
              "        buttonEl.style.display =\n",
              "          google.colab.kernel.accessAllowed ? 'block' : 'none';\n",
              "\n",
              "        async function convertToInteractive(key) {\n",
              "          const element = document.querySelector('#df-ae40e593-9d2c-4941-a69d-b3c6466a5663');\n",
              "          const dataTable =\n",
              "            await google.colab.kernel.invokeFunction('convertToInteractive',\n",
              "                                                     [key], {});\n",
              "          if (!dataTable) return;\n",
              "\n",
              "          const docLinkHtml = 'Like what you see? Visit the ' +\n",
              "            '<a target=\"_blank\" href=https://colab.research.google.com/notebooks/data_table.ipynb>data table notebook</a>'\n",
              "            + ' to learn more about interactive tables.';\n",
              "          element.innerHTML = '';\n",
              "          dataTable['output_type'] = 'display_data';\n",
              "          await google.colab.output.renderOutput(dataTable, element);\n",
              "          const docLink = document.createElement('div');\n",
              "          docLink.innerHTML = docLinkHtml;\n",
              "          element.appendChild(docLink);\n",
              "        }\n",
              "      </script>\n",
              "    </div>\n",
              "  </div>\n",
              "  "
            ]
          },
          "metadata": {},
          "execution_count": 219
        }
      ]
    },
    {
      "cell_type": "code",
      "source": [
        "pred_corpus=clean(pred_data)"
      ],
      "metadata": {
        "colab": {
          "base_uri": "https://localhost:8080/"
        },
        "id": "2UzGzhlmEsf7",
        "outputId": "7b5c00de-33d3-40a5-90a2-655e9dc1e3b9"
      },
      "execution_count": null,
      "outputs": [
        {
          "output_type": "stream",
          "name": "stdout",
          "text": [
            "0\n",
            "1\n",
            "2\n"
          ]
        }
      ]
    },
    {
      "cell_type": "code",
      "source": [
        "pred_corpus"
      ],
      "metadata": {
        "colab": {
          "base_uri": "https://localhost:8080/"
        },
        "id": "Zbg4Tm5XEsj0",
        "outputId": "5af255d5-95a8-4dee-bb11-f3a99be3dee0"
      },
      "execution_count": null,
      "outputs": [
        {
          "output_type": "execute_result",
          "data": {
            "text/plain": [
              "['urgent you week free membership prize jackpot txt word claim No T C www dbuk net lccltd pobox ldnw A RW',\n",
              " 'winner As valu network custom select receivea prize reward To claim call claim code KL valid hour',\n",
              " 'nah I think goe usf live around though']"
            ]
          },
          "metadata": {},
          "execution_count": 221
        }
      ]
    },
    {
      "cell_type": "code",
      "source": [
        "#encoding\n",
        "\n",
        "onehot_repr= [one_hot(words,voc_size)for words in pred_corpus] \n",
        "onehot_repr"
      ],
      "metadata": {
        "colab": {
          "base_uri": "https://localhost:8080/"
        },
        "id": "qlsvpp8BEsms",
        "outputId": "42e9af1e-7ad3-44a4-cae0-50b4467cd92d"
      },
      "execution_count": null,
      "outputs": [
        {
          "output_type": "execute_result",
          "data": {
            "text/plain": [
              "[[14,\n",
              "  17,\n",
              "  32,\n",
              "  6,\n",
              "  4,\n",
              "  42,\n",
              "  36,\n",
              "  26,\n",
              "  39,\n",
              "  1,\n",
              "  8,\n",
              "  16,\n",
              "  49,\n",
              "  20,\n",
              "  25,\n",
              "  44,\n",
              "  10,\n",
              "  12,\n",
              "  10,\n",
              "  18,\n",
              "  20],\n",
              " [4, 4, 4, 2, 25, 3, 30, 42, 16, 33, 1, 10, 1, 14, 11, 4, 6],\n",
              " [12, 24, 49, 8, 26, 20, 14, 14]]"
            ]
          },
          "metadata": {},
          "execution_count": 222
        }
      ]
    },
    {
      "cell_type": "code",
      "source": [
        "embedded_docs=pad_sequences(onehot_repr,padding='pre',maxlen=sent_length)\n",
        "print(embedded_docs)"
      ],
      "metadata": {
        "colab": {
          "base_uri": "https://localhost:8080/"
        },
        "id": "xTmIPSxwEsph",
        "outputId": "f72f4d39-337a-4590-b4d8-278865e4b7e9"
      },
      "execution_count": null,
      "outputs": [
        {
          "output_type": "stream",
          "name": "stdout",
          "text": [
            "[[ 6  4 42 36 26 39  1  8 16 49 20 25 44 10 12 10 18 20]\n",
            " [ 0  4  4  4  2 25  3 30 42 16 33  1 10  1 14 11  4  6]\n",
            " [ 0  0  0  0  0  0  0  0  0  0 12 24 49  8 26 20 14 14]]\n"
          ]
        }
      ]
    },
    {
      "cell_type": "code",
      "source": [
        ""
      ],
      "metadata": {
        "id": "gh9OIrxp-PSQ"
      },
      "execution_count": null,
      "outputs": []
    },
    {
      "cell_type": "code",
      "source": [
        "prediction = (model3.predict(embedded_docs) > 0.5).astype(\"int32\")\n",
        "prediction"
      ],
      "metadata": {
        "colab": {
          "base_uri": "https://localhost:8080/"
        },
        "id": "yypMt0erEssn",
        "outputId": "9585d16c-08eb-431b-a9bc-0096744d16b5"
      },
      "execution_count": null,
      "outputs": [
        {
          "output_type": "execute_result",
          "data": {
            "text/plain": [
              "array([[1],\n",
              "       [1],\n",
              "       [0]], dtype=int32)"
            ]
          },
          "metadata": {},
          "execution_count": 224
        }
      ]
    }
  ]
}